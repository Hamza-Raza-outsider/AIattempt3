{
  "nbformat": 4,
  "nbformat_minor": 0,
  "metadata": {
    "colab": {
      "provenance": [],
      "gpuType": "T4",
      "include_colab_link": true
    },
    "kernelspec": {
      "name": "python3",
      "display_name": "Python 3"
    },
    "language_info": {
      "name": "python"
    },
    "accelerator": "GPU"
  },
  "cells": [
    {
      "cell_type": "markdown",
      "metadata": {
        "id": "view-in-github",
        "colab_type": "text"
      },
      "source": [
        "<a href=\"https://colab.research.google.com/github/Hamza-Raza-outsider/AIattempt3/blob/main/Untitled0.ipynb\" target=\"_parent\"><img src=\"https://colab.research.google.com/assets/colab-badge.svg\" alt=\"Open In Colab\"/></a>"
      ]
    },
    {
      "cell_type": "code",
      "source": [
        "import torch\n",
        "import torch.nn as nn\n",
        "import torch.nn.functional as F"
      ],
      "metadata": {
        "id": "61UrCbjzVwvM"
      },
      "execution_count": 1,
      "outputs": []
    },
    {
      "cell_type": "code",
      "execution_count": 2,
      "metadata": {
        "id": "n3QuEJ1GVuO5"
      },
      "outputs": [],
      "source": [
        "class Model(nn.Module):\n",
        "    def __init__(self, in_features = 4, h1 = 8, h2 = 8, out_features = 3):\n",
        "        super().__init__()\n",
        "        self.fc1 = nn.Linear(in_features, h1)\n",
        "        self.fc2 = nn.Linear(h1, h2)\n",
        "        self.out = nn.Linear(h2, out_features)\n",
        "\n",
        "    def forward(self, x):\n",
        "        x = F.relu(self.fc1(x))\n",
        "        x = F.relu(self.fc2(x))\n",
        "        x = self.out(x)\n",
        "\n",
        "        return x"
      ]
    },
    {
      "cell_type": "code",
      "source": [
        "torch.manual_seed(41)\n",
        "model = Model()"
      ],
      "metadata": {
        "id": "8qNBam2vZA-o"
      },
      "execution_count": 3,
      "outputs": []
    },
    {
      "cell_type": "code",
      "source": [
        "import pandas as pd\n",
        "import matplotlib.pyplot as plt\n",
        "%matplotlib inline"
      ],
      "metadata": {
        "id": "DAgf6sZLa9xl"
      },
      "execution_count": 4,
      "outputs": []
    },
    {
      "cell_type": "code",
      "source": [
        "url = 'https://gist.githubusercontent.com/netj/8836201/raw/6f9306ad21398ea43cba4f7d537619d0e07d5ae3/iris.csv'\n",
        "my_df = pd.read_csv(url)\n",
        "\n",
        "print(my_df)\n",
        "\n",
        "my_df['variety'] = my_df['variety'].replace('Setosa', 0)\n",
        "my_df['variety'] = my_df['variety'].replace('Versicolor', 1)\n",
        "my_df['variety'] = my_df['variety'].replace('Virginica', 2)"
      ],
      "metadata": {
        "id": "WqdrVcRsbCRK",
        "colab": {
          "base_uri": "https://localhost:8080/"
        },
        "outputId": "2e406b9b-5eca-4d08-c933-1404645d41d6",
        "collapsed": true
      },
      "execution_count": 5,
      "outputs": [
        {
          "output_type": "stream",
          "name": "stdout",
          "text": [
            "     sepal.length  sepal.width  petal.length  petal.width    variety\n",
            "0             5.1          3.5           1.4          0.2     Setosa\n",
            "1             4.9          3.0           1.4          0.2     Setosa\n",
            "2             4.7          3.2           1.3          0.2     Setosa\n",
            "3             4.6          3.1           1.5          0.2     Setosa\n",
            "4             5.0          3.6           1.4          0.2     Setosa\n",
            "..            ...          ...           ...          ...        ...\n",
            "145           6.7          3.0           5.2          2.3  Virginica\n",
            "146           6.3          2.5           5.0          1.9  Virginica\n",
            "147           6.5          3.0           5.2          2.0  Virginica\n",
            "148           6.2          3.4           5.4          2.3  Virginica\n",
            "149           5.9          3.0           5.1          1.8  Virginica\n",
            "\n",
            "[150 rows x 5 columns]\n"
          ]
        }
      ]
    },
    {
      "cell_type": "code",
      "source": [
        "x = my_df.drop('variety', axis = 1).values\n",
        "\n",
        "y = my_df['variety'].values"
      ],
      "metadata": {
        "collapsed": true,
        "id": "h18WK3otbutZ"
      },
      "execution_count": 6,
      "outputs": []
    },
    {
      "cell_type": "code",
      "source": [
        "from sklearn.model_selection import train_test_split"
      ],
      "metadata": {
        "id": "Q-TZ5rTYha3d"
      },
      "execution_count": 7,
      "outputs": []
    },
    {
      "cell_type": "code",
      "source": [
        "x_train, x_test, y_train, y_test = train_test_split(x, y, test_size = 0.2, random_state = 41)"
      ],
      "metadata": {
        "id": "-gSI_z01hlb4"
      },
      "execution_count": 8,
      "outputs": []
    },
    {
      "cell_type": "code",
      "source": [
        "x_train = torch.FloatTensor(x_train)\n",
        "x_test = torch.FloatTensor(x_test)\n",
        "y_train = torch.LongTensor(y_train)\n",
        "y_test = torch.LongTensor(y_test)"
      ],
      "metadata": {
        "id": "s0X4VVSQhz-v"
      },
      "execution_count": 9,
      "outputs": []
    },
    {
      "cell_type": "code",
      "source": [
        "criterion = nn.CrossEntropyLoss()\n",
        "optimizer = torch.optim.Adam(model.parameters(), lr = 0.01)"
      ],
      "metadata": {
        "id": "NiX1muwbiC23"
      },
      "execution_count": 10,
      "outputs": []
    },
    {
      "cell_type": "code",
      "source": [
        "epochs = 100\n",
        "losses = []\n",
        "\n",
        "for i in range(epochs):\n",
        "    y_pred = model.forward(x_train)\n",
        "    loss = criterion(y_pred, y_train)\n",
        "    losses.append(loss.detach().numpy())\n",
        "\n",
        "    if i % 10 == 0:\n",
        "        print(f'learning rounds: {i} Loss: {loss}')\n",
        "\n",
        "    optimizer.zero_grad()\n",
        "    loss.backward()\n",
        "    optimizer.step()\n",
        "\n",
        "plt.plot(range(epochs), losses)\n",
        "plt.ylabel('Loss')\n",
        "plt.xlabel('Epoch')"
      ],
      "metadata": {
        "colab": {
          "base_uri": "https://localhost:8080/",
          "height": 640
        },
        "id": "T2xgmaleixHu",
        "outputId": "0ddd5522-c6bc-477a-b5d3-2e1ce8175cd7"
      },
      "execution_count": 11,
      "outputs": [
        {
          "output_type": "stream",
          "name": "stdout",
          "text": [
            "learning rounds: 0 Loss: 1.1318365335464478\n",
            "learning rounds: 10 Loss: 0.9658561944961548\n",
            "learning rounds: 20 Loss: 0.6789938807487488\n",
            "learning rounds: 30 Loss: 0.4004894495010376\n",
            "learning rounds: 40 Loss: 0.22509503364562988\n",
            "learning rounds: 50 Loss: 0.12207334488630295\n",
            "learning rounds: 60 Loss: 0.07481689006090164\n",
            "learning rounds: 70 Loss: 0.054512783885002136\n",
            "learning rounds: 80 Loss: 0.04437492415308952\n",
            "learning rounds: 90 Loss: 0.03837944194674492\n"
          ]
        },
        {
          "output_type": "execute_result",
          "data": {
            "text/plain": [
              "Text(0.5, 0, 'Epoch')"
            ]
          },
          "metadata": {},
          "execution_count": 11
        },
        {
          "output_type": "display_data",
          "data": {
            "text/plain": [
              "<Figure size 640x480 with 1 Axes>"
            ],
            "image/png": "[encoded data removed]"
          },
          "metadata": {}
        }
      ]
    },
    {
      "cell_type": "code",
      "source": [
        "with torch.no_grad():\n",
        "    y_eval = model.forward(x_test)\n",
        "    loss = criterion(y_eval, y_test)\n",
        "\n",
        "print(loss)"
      ],
      "metadata": {
        "colab": {
          "base_uri": "https://localhost:8080/"
        },
        "id": "yv6pJhNrraso",
        "outputId": "4d0353c7-5502-4557-e072-4e9a75a65229"
      },
      "execution_count": 12,
      "outputs": [
        {
          "output_type": "stream",
          "name": "stdout",
          "text": [
            "tensor(0.1458)\n"
          ]
        }
      ]
    },
    {
      "cell_type": "code",
      "source": [
        "correct = 0\n",
        "with torch.no_grad():\n",
        "    for i, data in enumerate(x_test):\n",
        "        y_val = model.forward(data)\n",
        "\n",
        "        print(f'{i+1}.) {str(y_val)} \\t {y_test[i]}')"
      ],
      "metadata": {
        "colab": {
          "base_uri": "https://localhost:8080/"
        },
        "id": "cXtG-24tr88o",
        "outputId": "66ad1bbf-0e97-42d0-f036-c037e838b461"
      },
      "execution_count": 13,
      "outputs": [
        {
          "output_type": "stream",
          "name": "stdout",
          "text": [
            "1.) tensor([-7.7212,  1.5826,  4.8685]) \t 2\n",
            "2.) tensor([-10.2316,   0.5146,   8.7767]) \t 2\n",
            "3.) tensor([-10.7282,   1.1893,   8.2408]) \t 2\n",
            "4.) tensor([-4.4743,  3.5419, -1.1241]) \t 1\n",
            "5.) tensor([-9.0954,  1.4687,  6.2899]) \t 2\n",
            "6.) tensor([-2.2803,  3.7077, -4.1196]) \t 1\n",
            "7.) tensor([-7.0740,  2.2070,  3.2966]) \t 2\n",
            "8.) tensor([-4.2271,  3.6553, -1.5467]) \t 1\n",
            "9.) tensor([-8.0707,  1.8280,  4.7897]) \t 2\n",
            "10.) tensor([-10.8583,   0.5051,   9.3761]) \t 2\n",
            "11.) tensor([-6.8676,  2.2165,  3.0858]) \t 2\n",
            "12.) tensor([  9.4382,   3.2638, -18.8717]) \t 0\n",
            "13.) tensor([  8.6037,   2.9307, -17.1502]) \t 0\n",
            "14.) tensor([-1.0594,  3.1702, -4.7116]) \t 1\n",
            "15.) tensor([  8.0310,   3.2450, -16.7844]) \t 0\n",
            "16.) tensor([-6.7105,  2.4191,  2.6637]) \t 2\n",
            "17.) tensor([  8.4678,   3.0888, -17.1317]) \t 0\n",
            "18.) tensor([-7.6060,  1.7034,  4.5701]) \t 1\n",
            "19.) tensor([  9.8628,   3.2141, -19.4757]) \t 0\n",
            "20.) tensor([  7.7276,   2.8980, -15.7355]) \t 0\n",
            "21.) tensor([-1.6920,  3.3949, -4.3016]) \t 1\n",
            "22.) tensor([-10.0177,   1.0502,   7.7708]) \t 2\n",
            "23.) tensor([  8.2674,   3.2234, -17.0561]) \t 0\n",
            "24.) tensor([  9.2092,   3.0850, -18.2915]) \t 0\n",
            "25.) tensor([-1.3335,  3.4971, -4.9688]) \t 1\n",
            "26.) tensor([-2.4308,  3.5983, -3.7124]) \t 1\n",
            "27.) tensor([-4.7213,  3.5784, -0.9619]) \t 1\n",
            "28.) tensor([-2.2788,  3.5467, -3.8154]) \t 1\n",
            "29.) tensor([  9.4498,   3.2186, -18.8342]) \t 0\n",
            "30.) tensor([-5.0105,  3.2334, -0.1553]) \t 1\n"
          ]
        }
      ]
    },
    {
      "cell_type": "markdown",
      "source": [],
      "metadata": {
        "id": "DSoarPqa1tYu"
      }
    }
  ]
}